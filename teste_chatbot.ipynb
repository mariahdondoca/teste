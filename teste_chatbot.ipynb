{
 "cells": [
  {
   "cell_type": "code",
   "execution_count": 1,
   "metadata": {
    "collapsed": true
   },
   "outputs": [],
   "source": [
    "import chatbot_1"
   ]
  },
  {
   "cell_type": "code",
   "execution_count": null,
   "metadata": {
    "collapsed": false
   },
   "outputs": [
    {
     "name": "stdout",
     "output_type": "stream",
     "text": [
      "Olá, Eu sou Chatty e eu falo bastante ;)\n",
      "Por favor escreva em minusculo. Escreva quit para sair \n",
      ">olá\n",
      "Eaewww, blz?\n",
      ">tudo bem?\n",
      "Estou bem\n",
      "E você?\n",
      ">bem também\n",
      "None\n",
      ">bem\n",
      "None\n",
      ">boa noite\n",
      "None\n",
      ">qual sua idade?\n",
      "Eu sou um programa de computador rsrs\n",
      "Sério você está me perguntando isso?\n",
      ">sim\n",
      "None\n",
      ">quem criou vocÊ?\n",
      "top secret ;)\n",
      ">qual a sua cidade?\n",
      "São Paulo, na Faria Lima\n",
      ">qual o preço do dolar?\n",
      "None\n",
      ">qual o preço do dolar ?\n",
      "None\n",
      ">preço dolar ?\n",
      "Não sei dizer, mas vou pesquisar!\n",
      ">preço dolar ?\n",
      "Alto demais!\n"
     ]
    }
   ],
   "source": [
    "chatbot_1.chatty()"
   ]
  },
  {
   "cell_type": "code",
   "execution_count": null,
   "metadata": {
    "collapsed": true
   },
   "outputs": [],
   "source": []
  }
 ],
 "metadata": {
  "kernelspec": {
   "display_name": "Python 3",
   "language": "python",
   "name": "python3"
  },
  "language_info": {
   "codemirror_mode": {
    "name": "ipython",
    "version": 3
   },
   "file_extension": ".py",
   "mimetype": "text/x-python",
   "name": "python",
   "nbconvert_exporter": "python",
   "pygments_lexer": "ipython3",
   "version": "3.6.0"
  }
 },
 "nbformat": 4,
 "nbformat_minor": 2
}
